{
 "cells": [
  {
   "cell_type": "code",
   "execution_count": 1,
   "id": "09b869b5",
   "metadata": {},
   "outputs": [
    {
     "name": "stdout",
     "output_type": "stream",
     "text": [
      "ghani\n",
      "19\n",
      "Homo Sapiens\n",
      "Hello, my name is ghani and I am 19 years old.\n"
     ]
    }
   ],
   "source": [
    "#class and object : Classes are blueprints for creating objects, and objects are instances of classes. \n",
    "\n",
    "\n",
    "class Person:\n",
    "    species = \"Homo Sapiens\"\n",
    "\n",
    "    #constructor method\n",
    "    def __init__(self, name, age):\n",
    "        self.name = name  \n",
    "        self.age = age  \n",
    "\n",
    "    # Instance method\n",
    "    def introduce(self):\n",
    "        print(f\"Hello, my name is {self.name} and I am {self.age} years old.\")\n",
    "person1 = Person(\"ghani\", 19)\n",
    "\n",
    "print(person1.name)  \n",
    "print(person1.age)  \n",
    "print(person1.species)  \n",
    "\n",
    "person1.introduce() "
   ]
  },
  {
   "cell_type": "code",
   "execution_count": 2,
   "id": "689a99bc",
   "metadata": {},
   "outputs": [
    {
     "name": "stdout",
     "output_type": "stream",
     "text": [
      "Color of my car: Blue\n",
      "Brand of my car: Toyota\n",
      "Car Information:\n",
      "  Brand: Toyota\n",
      "  Model: Corolla\n",
      "  Color: Blue\n"
     ]
    }
   ],
   "source": [
    "class Car:\n",
    "    def __init__(self, brand, model, color):\n",
    "        self.__brand = brand  \n",
    "        self.__model = model  \n",
    "        self.color = color    \n",
    "\n",
    "    def display_info(self):\n",
    "        print(\"Car Information:\")\n",
    "        print(f\"  Brand: {self.__brand}\")\n",
    "        print(f\"  Model: {self.__model}\")\n",
    "        print(f\"  Color: {self.color}\")\n",
    "\n",
    "    def set_model(self, new_model):\n",
    "        self.__model = new_model\n",
    "\n",
    "    def get_brand(self):\n",
    "        return self.__brand\n",
    "\n",
    "my_car = Car(\"Toyota\", \"Camry\", \"Blue\")\n",
    "\n",
    "print(\"Color of my car:\", my_car.color)\n",
    "\n",
    "print(\"Brand of my car:\", my_car.get_brand())\n",
    "\n",
    "my_car.set_model(\"Corolla\")\n",
    "\n",
    "my_car.display_info()\n"
   ]
  },
  {
   "cell_type": "code",
   "execution_count": 3,
   "id": "3b83fa14",
   "metadata": {},
   "outputs": [
    {
     "name": "stdout",
     "output_type": "stream",
     "text": [
      "Car started.\n",
      "Car stopped.\n",
      "Bike started.\n",
      "Bike stopped.\n"
     ]
    }
   ],
   "source": [
    "from abc import ABC, abstractmethod\n",
    "\n",
    "class Vehicle(ABC):\n",
    "    \n",
    "    #abstractmethod\n",
    "    def start(self):\n",
    "        pass\n",
    "\n",
    "    #abstractmethod\n",
    "    def stop(self):\n",
    "        pass\n",
    "\n",
    "class Car(Vehicle):\n",
    "  \n",
    "    def start(self):\n",
    "        return \"Car started.\"\n",
    "\n",
    "    def stop(self):\n",
    "        return \"Car stopped.\"\n",
    "\n",
    "class Bike(Vehicle):\n",
    "\n",
    "    def start(self):\n",
    "        return \"Bike started.\"\n",
    "\n",
    "    def stop(self):\n",
    "        return \"Bike stopped.\"\n",
    "\n",
    "car = Car()\n",
    "bike = Bike()\n",
    "\n",
    "vehicles = [car, bike]\n",
    "\n",
    "for vehicle in vehicles:\n",
    "    print(vehicle.start())\n",
    "    print(vehicle.stop())\n"
   ]
  },
  {
   "cell_type": "code",
   "execution_count": 4,
   "id": "b279266a",
   "metadata": {},
   "outputs": [
    {
     "name": "stdout",
     "output_type": "stream",
     "text": [
      "Brand of my car: Toyota\n",
      "Color of my car: Blue\n"
     ]
    }
   ],
   "source": [
    "class Car:\n",
    "    def __init__(self, brand, color):\n",
    "        self.brand = brand \n",
    "        self.__color = color\n",
    "        \n",
    "    def display_color(self):\n",
    "        return self.__color\n",
    "\n",
    "my_car = Car(\"Toyota\", \"Blue\")\n",
    "\n",
    "print(\"Brand of my car:\", my_car.brand)\n",
    "\n",
    "print(\"Color of my car:\", my_car.display_color())"
   ]
  },
  {
   "cell_type": "code",
   "execution_count": 6,
   "id": "0473ca7a",
   "metadata": {},
   "outputs": [
    {
     "name": "stdout",
     "output_type": "stream",
     "text": [
      "Instance method called with x = 10\n",
      "Class method called with y = 6\n",
      "Static method called with z = 12\n"
     ]
    }
   ],
   "source": [
    "class MyClass:\n",
    "    def __init__(self, x):\n",
    "        self.x = x\n",
    "\n",
    "    # Instance method\n",
    "    def instance_method(self):\n",
    "        return f\"Instance method called with x = {self.x}\"\n",
    "\n",
    "    # Class method\n",
    "    @classmethod\n",
    "    def class_method(cls, y):\n",
    "        return f\"Class method called with y = {y}\"\n",
    "\n",
    "    # Static method\n",
    "    @staticmethod\n",
    "    def static_method(z):\n",
    "        return f\"Static method called with z = {z}\"\n",
    "\n",
    "# Creating an instance of MyClass\n",
    "obj = MyClass(10)\n",
    "print(obj.instance_method())  \n",
    "\n",
    "# Calling class method\n",
    "print(MyClass.class_method(6))  \n",
    "\n",
    "# Calling static method\n",
    "print(MyClass.static_method(12)) "
   ]
  },
  {
   "cell_type": "code",
   "execution_count": 8,
   "id": "6e8eb267",
   "metadata": {},
   "outputs": [
    {
     "name": "stdout",
     "output_type": "stream",
     "text": [
      "Hello, my name is friday\n",
      "Hi sam, this is friday. Nice to meet you!\n",
      "sam\n",
      "One argument method called with argument: Argument 1\n",
      "Two arguments method called with arguments: Argument 1, Argument 2\n",
      "One argument method called with argument: Argument 1\n",
      "Two arguments method called with arguments: Argument 1, Argument 2\n",
      "Method overloaded with more than two arguments\n"
     ]
    }
   ],
   "source": [
    "class MyClass:\n",
    "    def __init__(self, name):\n",
    "        self.name = name\n",
    "\n",
    "    # Instance method\n",
    "    def greet(self):\n",
    "        return f\"Hello, my name is {self.name}\"\n",
    "\n",
    "    # Method passes object as an argument\n",
    "    def introduce_friend(self, friend):\n",
    "        return f\"Hi {friend.name}, this is {self.name}. Nice to meet you!\"\n",
    "\n",
    "    # Method returns object\n",
    "    def create_friend(self, friend_name):\n",
    "        return MyClass(friend_name)\n",
    "\n",
    "    # Method overloading using default argument values\n",
    "    def method(self, arg1, arg2=None):\n",
    "        if arg2 is None:\n",
    "            return f\"One argument method called with argument: {arg1}\"\n",
    "        else:\n",
    "            return f\"Two arguments method called with arguments: {arg1}, {arg2}\"\n",
    "\n",
    "    # Method overloading using variable-length argument lists (Args)\n",
    "    def var_args_method(self, *args):\n",
    "        if len(args) == 1:\n",
    "            return f\"One argument method called with argument: {args[0]}\"\n",
    "        elif len(args) == 2:\n",
    "            return f\"Two arguments method called with arguments: {args[0]}, {args[1]}\"\n",
    "        else:\n",
    "            return \"Method overloaded with more than two arguments\"\n",
    "\n",
    "# Creating instances of MyClass\n",
    "obj = MyClass(\"friday\")\n",
    "friend_obj = obj.create_friend(\"sam\")\n",
    "\n",
    "# Using different methods\n",
    "print(obj.greet())\n",
    "print(obj.introduce_friend(friend_obj))\n",
    "print(friend_obj.name)\n",
    "print(obj.method(\"Argument 1\"))\n",
    "print(obj.method(\"Argument 1\", \"Argument 2\"))\n",
    "print(obj.var_args_method(\"Argument 1\"))\n",
    "print(obj.var_args_method(\"Argument 1\", \"Argument 2\"))\n",
    "print(obj.var_args_method(\"Argument 1\", \"Argument 2\", \"Argument 3\"))"
   ]
  },
  {
   "cell_type": "code",
   "execution_count": 10,
   "id": "9d971ed4",
   "metadata": {},
   "outputs": [
    {
     "name": "stdout",
     "output_type": "stream",
     "text": [
      "mikey\n",
      "Object of Example class with name: mikey\n",
      "Creating a new instance of Example class\n"
     ]
    }
   ],
   "source": [
    "#Special Methods\n",
    "#__init__ method\n",
    "class Example:\n",
    "    def __init__(self, name):\n",
    "        self.name = name\n",
    "# Creating an instance of the class\n",
    "obj = Example(\"mikey\")\n",
    "print(obj.name)  \n",
    "\n",
    "#__str__method\n",
    "class Example:\n",
    "    def __init__(self, name):\n",
    "        self.name = name\n",
    "\n",
    "    def __str__(self):\n",
    "        return f\"Object of Example class with name: {self.name}\"\n",
    "# Creating an instance of the class\n",
    "obj = Example(\"mikey\")\n",
    "print(obj) \n",
    "\n",
    "#__new__method\n",
    "class Example:\n",
    "    def __new__(cls, *args, **kwargs):\n",
    "        print(\"Creating a new instance of Example class\")\n",
    "        instance = super().__new__(cls)\n",
    "        return instance\n",
    "\n",
    "    def __init__(self, name):\n",
    "        self.name = name\n",
    "# Creating an instance of the class\n",
    "obj = Example(\"mikey\")"
   ]
  },
  {
   "cell_type": "code",
   "execution_count": 11,
   "id": "d13e7e85",
   "metadata": {},
   "outputs": [
    {
     "name": "stdout",
     "output_type": "stream",
     "text": [
      "Object created with name: Object 1\n",
      "Object created with name: Object 2\n",
      "Object destroyed for Object 1\n"
     ]
    }
   ],
   "source": [
    "#constructor (__init__) and the \"destructor\" (__del__)\n",
    "\n",
    "class MyClass:\n",
    "    def __init__(self, name):\n",
    "        self.name = name\n",
    "        print(f\"Object created with name: {self.name}\")\n",
    "\n",
    "    def __del__(self):\n",
    "        print(f\"Object destroyed for {self.name}\")\n",
    "\n",
    "obj1 = MyClass(\"Object 1\")\n",
    "obj2 = MyClass(\"Object 2\")\n",
    "del obj1"
   ]
  },
  {
   "cell_type": "code",
   "execution_count": null,
   "id": "5acac8b7",
   "metadata": {},
   "outputs": [],
   "source": []
  }
 ],
 "metadata": {
  "kernelspec": {
   "display_name": "Python 3 (ipykernel)",
   "language": "python",
   "name": "python3"
  },
  "language_info": {
   "codemirror_mode": {
    "name": "ipython",
    "version": 3
   },
   "file_extension": ".py",
   "mimetype": "text/x-python",
   "name": "python",
   "nbconvert_exporter": "python",
   "pygments_lexer": "ipython3",
   "version": "3.11.5"
  }
 },
 "nbformat": 4,
 "nbformat_minor": 5
}
