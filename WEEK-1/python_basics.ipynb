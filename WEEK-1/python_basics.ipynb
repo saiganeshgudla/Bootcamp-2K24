{
 "cells": [
  {
   "cell_type": "code",
   "execution_count": 2,
   "id": "8203cd80",
   "metadata": {},
   "outputs": [
    {
     "name": "stdout",
     "output_type": "stream",
     "text": [
      "Enter your name : mikey\n",
      "HELLO ,  mikey\n"
     ]
    }
   ],
   "source": [
    "# python input and output statements\n",
    "\n",
    "name = input(\"Enter your name : \")\n",
    "print(\"HELLO , \", name)"
   ]
  },
  {
   "cell_type": "code",
   "execution_count": 3,
   "id": "1ccda974",
   "metadata": {},
   "outputs": [],
   "source": [
    "# Data Types in Python\n",
    "int_num = 12345678\n",
    "float_num = 456.78\n",
    "complex_num = 8 + 6j\n",
    "string = \"Python is fun!\"\n",
    "boolean = True and False\n",
    "list_example = [10, 20, 30, 40, 50]\n",
    "tuple_example = (1, 3, 5, 7, 9)\n",
    "dict_example = {\"name\": \"mikey\", \"age\": 19}\n",
    "set_example = {6, 7, 8, 9, 10}"
   ]
  },
  {
   "cell_type": "code",
   "execution_count": 4,
   "id": "0f071a72",
   "metadata": {},
   "outputs": [
    {
     "name": "stdout",
     "output_type": "stream",
     "text": [
      "525\n",
      "475\n",
      "12500\n",
      "20.0\n",
      "20\n",
      "0\n",
      "29802322387695312500000000000000000000000000000000000000000000000000\n",
      "False\n",
      "True\n",
      "True\n",
      "False\n",
      "True\n",
      "False\n",
      "False\n",
      "True\n",
      "True\n"
     ]
    }
   ],
   "source": [
    "a = 500\n",
    "b = 25\n",
    "# Arithmetic Operators\n",
    "# Addition\n",
    "print(a + b)  # 500 + 25\n",
    "# Subtraction\n",
    "print(a - b)  # 500 - 25\n",
    "# Multiplication\n",
    "print(a * b)  # 500 * 25\n",
    "# Division\n",
    "print(a / b)  # 500 / 25\n",
    "# Floor Division\n",
    "print(a // b)  # 500 // 25\n",
    "# Modulus\n",
    "print(a % b)  # 500 % 25\n",
    "# Exponentiation\n",
    "print(a ** b)  # 500 ** 25\n",
    "\n",
    "# Comparison Operators\n",
    "# Equal to\n",
    "print(a == b)  #  a == 25\n",
    "# Not equal to\n",
    "print(a != b)  #  a != 25\n",
    "# Greater than\n",
    "print(a > b)  # 500 > 25\n",
    "# Less than\n",
    "print(a < b)  # 500 < 25\n",
    "# Greater than or equal to\n",
    "print(a >= b)  # 500 >= 25\n",
    "# Less than or equal to\n",
    "print(a <= b)  # 500 <= 25\n",
    "\n",
    "# Logical Operators\n",
    "# and: True if both conditions are true else false\n",
    "print(a > 10 and b < 10)\n",
    "# or: True if any condition is satisfied else false\n",
    "print(a > 10 or b < 1) \n",
    "# not: negates the condition\n",
    "print(not(a > 10 and b < 10))\n"
   ]
  },
  {
   "cell_type": "code",
   "execution_count": 5,
   "id": "d91e9cb2",
   "metadata": {},
   "outputs": [
    {
     "name": "stdout",
     "output_type": "stream",
     "text": [
      "456\n",
      "20.0\n",
      "67890\n",
      "['W', 'o', 'r', 'l', 'd']\n",
      "(6, 7, 8, 9, 10)\n",
      "{6, 7, 8, 9, 10}\n"
     ]
    }
   ],
   "source": [
    "int_from_float = int(456.78)\n",
    "float_from_int = float(20)\n",
    "string_from_int = str(67890)\n",
    "list_from_string = list(\"World\")\n",
    "tuple_from_list = tuple([6, 7, 8, 9, 10])\n",
    "set_from_list = set([6, 7, 8, 9, 10])\n",
    "\n",
    "print(int_from_float)\n",
    "print(float_from_int)\n",
    "print(string_from_int)\n",
    "print(list_from_string)\n",
    "print(tuple_from_list)\n",
    "print(set_from_list)"
   ]
  },
  {
   "cell_type": "code",
   "execution_count": 9,
   "id": "6328d8f0",
   "metadata": {},
   "outputs": [
    {
     "name": "stdout",
     "output_type": "stream",
     "text": [
      "pupsha 2\n",
      "kalki 2898 AD\n",
      "OG\n",
      "10\n",
      "11\n",
      "12\n",
      "13\n",
      "14\n"
     ]
    }
   ],
   "source": [
    "# For loop\n",
    "movies = [\"pupsha 2\", \"kalki 2898 AD\", \"OG\"]\n",
    "for movie in movies:\n",
    "    print(movie)\n",
    "\n",
    "# While loop\n",
    "count = 10\n",
    "while count < 15:\n",
    "    print(count)\n",
    "    count += 1"
   ]
  },
  {
   "cell_type": "code",
   "execution_count": 10,
   "id": "d1a06485",
   "metadata": {},
   "outputs": [
    {
     "name": "stdout",
     "output_type": "stream",
     "text": [
      "0\n",
      "1\n",
      "2\n",
      "3\n",
      "4\n",
      "5\n",
      "6\n",
      "0\n",
      "1\n",
      "2\n",
      "3\n",
      "4\n",
      "5\n",
      "6\n",
      "8\n",
      "9\n",
      "10\n",
      "11\n",
      "12\n",
      "13\n",
      "14\n"
     ]
    }
   ],
   "source": [
    "# break statement\n",
    "for i in range(15):\n",
    "    if i == 7:\n",
    "        break\n",
    "    print(i)\n",
    "\n",
    "# continue statement\n",
    "for i in range(15):\n",
    "    if i == 7:\n",
    "        continue\n",
    "    print(i)\n"
   ]
  },
  {
   "cell_type": "code",
   "execution_count": 11,
   "id": "11fc248e",
   "metadata": {},
   "outputs": [
    {
     "name": "stdout",
     "output_type": "stream",
     "text": [
      "3\n",
      "4473674816\n",
      "<class 'list'>\n",
      "0\n",
      "1\n",
      "2\n"
     ]
    }
   ],
   "source": [
    "names = [\"john doe\", \"jane doe\", \"alex\"]\n",
    "\n",
    "# len()\n",
    "print(len(names))\n",
    "# id()\n",
    "print(id(names))  \n",
    "\n",
    "# type()\n",
    "print(type(names))  \n",
    "\n",
    "# range()\n",
    "for i in range(3):\n",
    "    print(i)\n"
   ]
  },
  {
   "cell_type": "code",
   "execution_count": 12,
   "id": "854156d0",
   "metadata": {},
   "outputs": [
    {
     "name": "stdout",
     "output_type": "stream",
     "text": [
      "Hi Alice!\n"
     ]
    }
   ],
   "source": [
    "# This function prints a greeting message\n",
    "def greet(name):\n",
    "    print(\"Hi\", name + \"!\")\n",
    "greet(\"Alice\")"
   ]
  },
  {
   "cell_type": "code",
   "execution_count": 13,
   "id": "adcbf387",
   "metadata": {},
   "outputs": [
    {
     "name": "stdout",
     "output_type": "stream",
     "text": [
      "375\n"
     ]
    }
   ],
   "source": [
    "# Calculates the area of a rectangle\n",
    "def calculate_area(length, width):\n",
    "    return length * width\n",
    "\n",
    "area = calculate_area(15, 25)  \n",
    "print(area)\n"
   ]
  },
  {
   "cell_type": "code",
   "execution_count": 14,
   "id": "809f6f0f",
   "metadata": {},
   "outputs": [
    {
     "name": "stdout",
     "output_type": "stream",
     "text": [
      "445.0\n",
      "No numbers provided.\n"
     ]
    }
   ],
   "source": [
    "# This function calculates the average of any number of arguments.\n",
    "def calculate_average(*numbers):\n",
    "    if len(numbers) == 0:\n",
    "        print(\"No numbers provided.\")\n",
    "        return\n",
    "    return sum(numbers) / len(numbers)\n",
    "\n",
    "average = calculate_average(324, 454, 435, 567)\n",
    "print(average)\n",
    "calculate_average()\n"
   ]
  },
  {
   "cell_type": "code",
   "execution_count": 15,
   "id": "5f78cd62",
   "metadata": {},
   "outputs": [
    {
     "name": "stdout",
     "output_type": "stream",
     "text": [
      "Addition result: 3\n",
      "Greetings, mikey!\n",
      "Sorted words by length: ['one piece', 'kaiju no.8', 'demon slayer', 'wind breaker']\n"
     ]
    }
   ],
   "source": [
    "# Examples of Lambda Functions\n",
    "\n",
    "# Addition lambda function\n",
    "addition = lambda x, y: x + y\n",
    "result = addition(1, 2)\n",
    "print(\"Addition result:\", result)\n",
    "\n",
    "# Greeting lambda function\n",
    "greeting = lambda name: f\"Greetings, {name}!\"\n",
    "print(greeting(\"mikey\"))\n",
    "\n",
    "# Sorting a list based on the length of elements\n",
    "words = [\"one piece\", \"demon slayer\", \"wind breaker\", \"kaiju no.8\"]\n",
    "sorted_words = sorted(words, key=lambda word: len(word))\n",
    "print(\"Sorted words by length:\", sorted_words)"
   ]
  },
  {
   "cell_type": "code",
   "execution_count": null,
   "id": "523ef63e",
   "metadata": {},
   "outputs": [],
   "source": []
  }
 ],
 "metadata": {
  "kernelspec": {
   "display_name": "Python 3 (ipykernel)",
   "language": "python",
   "name": "python3"
  },
  "language_info": {
   "codemirror_mode": {
    "name": "ipython",
    "version": 3
   },
   "file_extension": ".py",
   "mimetype": "text/x-python",
   "name": "python",
   "nbconvert_exporter": "python",
   "pygments_lexer": "ipython3",
   "version": "3.11.5"
  }
 },
 "nbformat": 4,
 "nbformat_minor": 5
}
