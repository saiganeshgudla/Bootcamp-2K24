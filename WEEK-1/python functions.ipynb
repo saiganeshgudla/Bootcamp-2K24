{
 "cells": [
  {
   "cell_type": "code",
   "execution_count": 2,
   "id": "298ffdcb",
   "metadata": {},
   "outputs": [],
   "source": [
    "#def\n",
    "def my_function():\n",
    "    print(\"hello mikey *_* \")"
   ]
  },
  {
   "cell_type": "code",
   "execution_count": 3,
   "id": "7feb4755",
   "metadata": {},
   "outputs": [
    {
     "name": "stdout",
     "output_type": "stream",
     "text": [
      "happy aano\n"
     ]
    }
   ],
   "source": [
    "#calling function \n",
    "def my_function():\n",
    "  print(\"happy aano\")\n",
    "\n",
    "my_function()"
   ]
  },
  {
   "cell_type": "code",
   "execution_count": 5,
   "id": "d0bcdfc1",
   "metadata": {},
   "outputs": [
    {
     "name": "stdout",
     "output_type": "stream",
     "text": [
      "naveen is free fire player\n",
      "vishnu is free fire player\n",
      "sam is free fire player\n"
     ]
    }
   ],
   "source": [
    "#Arguments\n",
    "\n",
    "def my_function(fname):\n",
    "  print(fname + \" is free fire player\")\n",
    "\n",
    "my_function(\"naveen\")\n",
    "my_function(\"vishnu\")\n",
    "my_function(\"sam\")"
   ]
  },
  {
   "cell_type": "code",
   "execution_count": 6,
   "id": "92ace6f6",
   "metadata": {},
   "outputs": [
    {
     "name": "stdout",
     "output_type": "stream",
     "text": [
      "mikey das\n"
     ]
    }
   ],
   "source": [
    "#Number of arguments\n",
    "def my_function(fname, lname):\n",
    "  print(fname + \" \" + lname)\n",
    "\n",
    "my_function(\"mikey\", \"das\")\n"
   ]
  },
  {
   "cell_type": "code",
   "execution_count": 7,
   "id": "7e6b997d",
   "metadata": {},
   "outputs": [
    {
     "name": "stdout",
     "output_type": "stream",
     "text": [
      "Number of arguments: 3\n",
      "Arguments: (1, 2, 3)\n"
     ]
    }
   ],
   "source": [
    "def my_function(*args):\n",
    "    print(\"Number of arguments:\", len(args))\n",
    "    print(\"Arguments:\", args)\n",
    "\n",
    "my_function(1, 2, 3)"
   ]
  },
  {
   "cell_type": "code",
   "execution_count": 8,
   "id": "98b5e02c",
   "metadata": {},
   "outputs": [
    {
     "name": "stdout",
     "output_type": "stream",
     "text": [
      "I am from Delhi\n",
      "I am from Norway\n",
      "I am from andhra pradesh\n"
     ]
    }
   ],
   "source": [
    "#Default parameter values\n",
    "def my_function(country = \"Norway\"):\n",
    "  print(\"I am from \" + country)\n",
    "\n",
    "my_function(\"Delhi\")\n",
    "my_function()\n",
    "my_function(\"andhra pradesh\")"
   ]
  },
  {
   "cell_type": "code",
   "execution_count": 9,
   "id": "d8666e9b",
   "metadata": {},
   "outputs": [
    {
     "name": "stdout",
     "output_type": "stream",
     "text": [
      "apple\n",
      "banana\n",
      "cherry\n"
     ]
    }
   ],
   "source": [
    "\n",
    "#passing a list \n",
    "def my_function(food):\n",
    "  for x in food:\n",
    "    print(x)\n",
    "\n",
    "fruits = [\"apple\", \"banana\", \"cherry\"]\n",
    "\n",
    "my_function(fruits)"
   ]
  },
  {
   "cell_type": "code",
   "execution_count": 10,
   "id": "29047eb2",
   "metadata": {},
   "outputs": [
    {
     "name": "stdout",
     "output_type": "stream",
     "text": [
      "5\n",
      "20\n",
      "15\n"
     ]
    }
   ],
   "source": [
    "#return values\n",
    "def my_function(x):\n",
    "  return 5 * x\n",
    "\n",
    "print(my_function(1))\n",
    "print(my_function(4))\n",
    "print(my_function(3))"
   ]
  },
  {
   "cell_type": "code",
   "execution_count": 11,
   "id": "78ac30df",
   "metadata": {},
   "outputs": [
    {
     "name": "stdout",
     "output_type": "stream",
     "text": [
      "Sum of numbers from 1 to 5 is: 15\n"
     ]
    }
   ],
   "source": [
    "#recurssion\n",
    "\n",
    "def sum_numbers(n):\n",
    "    if n <= 1:\n",
    "        return n\n",
    "    else:\n",
    "        return n + sum_numbers(n - 1)\n",
    "\n",
    "result = sum_numbers(5)\n",
    "print(\"Sum of numbers from 1 to 5 is:\", result)"
   ]
  },
  {
   "cell_type": "code",
   "execution_count": null,
   "id": "fb8d57e4",
   "metadata": {},
   "outputs": [],
   "source": []
  }
 ],
 "metadata": {
  "kernelspec": {
   "display_name": "Python 3 (ipykernel)",
   "language": "python",
   "name": "python3"
  },
  "language_info": {
   "codemirror_mode": {
    "name": "ipython",
    "version": 3
   },
   "file_extension": ".py",
   "mimetype": "text/x-python",
   "name": "python",
   "nbconvert_exporter": "python",
   "pygments_lexer": "ipython3",
   "version": "3.11.5"
  }
 },
 "nbformat": 4,
 "nbformat_minor": 5
}
