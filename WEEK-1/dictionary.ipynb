{
 "cells": [
  {
   "cell_type": "code",
   "execution_count": 1,
   "id": "042b593f",
   "metadata": {
    "scrolled": true
   },
   "outputs": [
    {
     "name": "stdout",
     "output_type": "stream",
     "text": [
      "{'name': 'shahid', 'age': 19, 'city': 'ANDHRA'}\n"
     ]
    }
   ],
   "source": [
    "# Creating a dictionary\n",
    "person = {\n",
    "    \"name\": \"shahid\",\n",
    "    \"age\": 19,\n",
    "    \"city\": \"ANDHRA\"\n",
    "}\n",
    "print(person)"
   ]
  },
  {
   "cell_type": "code",
   "execution_count": 2,
   "id": "0aec1984",
   "metadata": {},
   "outputs": [
    {
     "name": "stdout",
     "output_type": "stream",
     "text": [
      "shahid\n",
      "19\n"
     ]
    }
   ],
   "source": [
    "#Accessing Values:\n",
    "\n",
    "# Accessing values using keys\n",
    "print(person[\"name\"]) \n",
    "print(person.get(\"age\")) \n"
   ]
  },
  {
   "cell_type": "code",
   "execution_count": 3,
   "id": "66280813",
   "metadata": {},
   "outputs": [
    {
     "name": "stdout",
     "output_type": "stream",
     "text": [
      "{'name': 'shahid', 'age': 20, 'city': 'ANDHRA'}\n",
      "{'name': 'shahid', 'age': 20, 'city': 'ANDHRA', 'email': 'shahid@gmail.com'}\n"
     ]
    }
   ],
   "source": [
    "# Modifying a value\n",
    "person[\"age\"] = 20\n",
    "print(person)  \n",
    "\n",
    "# Adding a new key-value pair\n",
    "person[\"email\"] = \"shahid@gmail.com\"\n",
    "print(person)"
   ]
  },
  {
   "cell_type": "code",
   "execution_count": null,
   "id": "9a5fe54f",
   "metadata": {},
   "outputs": [],
   "source": [
    "# Removing a key-value pair\n",
    "del person[\"city\"]\n",
    "print(person)  \n",
    "\n",
    "# Removing and returning a value using pop()\n",
    "email = person.pop(\"email\")\n",
    "print(email)  \n",
    "print(person)"
   ]
  },
  {
   "cell_type": "code",
   "execution_count": null,
   "id": "ff01ae29",
   "metadata": {},
   "outputs": [],
   "source": [
    "#Looping Through a Dictionary:\n",
    "\n",
    "# Looping through keys\n",
    "for key in person:\n",
    "    print(key) \n",
    "# Looping through values\n",
    "for value in person.values():\n",
    "    print(value)  \n",
    "# Looping through key-value pairs\n",
    "for key, value in person.items():\n",
    "    print(f\"{key}: {value}\") "
   ]
  },
  {
   "cell_type": "code",
   "execution_count": null,
   "id": "36585441",
   "metadata": {},
   "outputs": [],
   "source": [
    "# Dictionary methods\n",
    "keys_list = list(person.keys())\n",
    "values_list = list(person.values())\n",
    "print(keys_list)  \n",
    "print(values_list)  \n",
    "person.clear()\n",
    "print(person) "
   ]
  }
 ],
 "metadata": {
  "kernelspec": {
   "display_name": "Python 3 (ipykernel)",
   "language": "python",
   "name": "python3"
  },
  "language_info": {
   "codemirror_mode": {
    "name": "ipython",
    "version": 3
   },
   "file_extension": ".py",
   "mimetype": "text/x-python",
   "name": "python",
   "nbconvert_exporter": "python",
   "pygments_lexer": "ipython3",
   "version": "3.11.5"
  }
 },
 "nbformat": 4,
 "nbformat_minor": 5
}
