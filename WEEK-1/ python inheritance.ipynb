{
 "cells": [
  {
   "cell_type": "code",
   "execution_count": 1,
   "id": "d8fda968",
   "metadata": {},
   "outputs": [
    {
     "name": "stdout",
     "output_type": "stream",
     "text": [
      "Animal Error: Abstract method 'speak' should be implemented by subclasses.\n",
      "Buddy says Woof!\n",
      "Whiskers says Meow!\n"
     ]
    }
   ],
   "source": [
    "# parent class\n",
    "class AnimalError(Exception):\n",
    "    pass\n",
    "\n",
    "class Animal:\n",
    "    def __init__(self, name):\n",
    "        self.name = name\n",
    "\n",
    "    def speak(self):\n",
    "        raise AnimalError(\"Abstract method 'speak' should be implemented by subclasses.\")\n",
    "\n",
    "class Dog(Animal):\n",
    "    def speak(self):\n",
    "        return f\"{self.name} says Woof!\"\n",
    "\n",
    "class Cat(Animal):\n",
    "    def speak(self):\n",
    "        return f\"{self.name} says Meow!\"\n",
    "\n",
    "animal = Animal(\"Generic Animal\")\n",
    "dog = Dog(\"Buddy\")\n",
    "cat = Cat(\"Whiskers\")\n",
    "\n",
    "try:\n",
    "    print(animal.speak()) \n",
    "except AnimalError as e:\n",
    "    print(\"Animal Error:\", e)\n",
    "\n",
    "print(dog.speak()) \n",
    "print(cat.speak())  \n"
   ]
  },
  {
   "cell_type": "code",
   "execution_count": 2,
   "id": "5b61a58a",
   "metadata": {},
   "outputs": [
    {
     "name": "stdout",
     "output_type": "stream",
     "text": [
      "Initializing class A\n",
      "Initializing class C\n",
      "Initializing class B\n",
      "Initializing class D\n",
      "Method from class B\n"
     ]
    }
   ],
   "source": [
    "# MRO (Method Resolution Order): It is the order in which Python searches for methods in a class hierarchy when invoking a method on an instance.\n",
    "\n",
    "# Parent class\n",
    "class A:\n",
    "    def __init__(self):\n",
    "        print(\"Initializing class A\")\n",
    "\n",
    "    def method(self):\n",
    "        print(\"Method from class A\")\n",
    "\n",
    "# Child class inheriting from A\n",
    "class B(A):\n",
    "    def __init__(self):\n",
    "        super().__init__()\n",
    "        print(\"Initializing class B\")\n",
    "\n",
    "    def method(self):\n",
    "        print(\"Method from class B\")\n",
    "\n",
    "# Child class inheriting from A\n",
    "class C(A):\n",
    "    def __init__(self):\n",
    "        super().__init__()\n",
    "        print(\"Initializing class C\")\n",
    "\n",
    "    def method(self):\n",
    "        print(\"Method from class C\")\n",
    "\n",
    "class D(B, C):\n",
    "    def __init__(self):\n",
    "        super().__init__()\n",
    "        print(\"Initializing class D\")\n",
    "\n",
    "obj = D()\n",
    "obj.method()"
   ]
  },
  {
   "cell_type": "code",
   "execution_count": 4,
   "id": "89074861",
   "metadata": {},
   "outputs": [
    {
     "name": "stdout",
     "output_type": "stream",
     "text": [
      "Generic Animal says something.\n",
      "Buddy says something.\n",
      "Buddy barks loudly.\n",
      "Method from class A\n",
      "Method from class B\n",
      "Method from class C\n",
      "Method from Grandparent class\n",
      "Method from Parent class\n",
      "Method from Child class\n",
      "Animal moves\n",
      "Dog barks\n",
      "Animal moves\n",
      "Cat meows\n"
     ]
    }
   ],
   "source": [
    "# single inheritance:\n",
    "class Animal:\n",
    "    def __init__(self, name):\n",
    "        self.name = name\n",
    "\n",
    "    def speak(self):\n",
    "        return f\"{self.name} says something.\"\n",
    "\n",
    "class Dog(Animal):\n",
    "    def bark(self):\n",
    "        return f\"{self.name} barks loudly.\"\n",
    "\n",
    "animal = Animal(\"Generic Animal\")\n",
    "print(animal.speak())\n",
    "\n",
    "dog = Dog(\"Buddy\")\n",
    "print(dog.speak())\n",
    "print(dog.bark())\n",
    "\n",
    "class A:\n",
    "    def method_a(self):\n",
    "        return \"Method from class A\"\n",
    "\n",
    "class B:\n",
    "    def method_b(self):\n",
    "        return \"Method from class B\"\n",
    "\n",
    "class C(A, B):\n",
    "    def method_c(self):\n",
    "        return \"Method from class C\"\n",
    "\n",
    "obj = C()\n",
    "print(obj.method_a()) \n",
    "print(obj.method_b()) \n",
    "print(obj.method_c())\n",
    "\n",
    "class Grandparent:\n",
    "    def grand_method(self):\n",
    "        return \"Method from Grandparent class\"\n",
    "\n",
    "class Parent(Grandparent):\n",
    "    def parent_method(self):\n",
    "        return \"Method from Parent class\"\n",
    "\n",
    "class Child(Parent):\n",
    "    def child_method(self):\n",
    "        return \"Method from Child class\"\n",
    "\n",
    "child = Child()\n",
    "print(child.grand_method())  \n",
    "print(child.parent_method())\n",
    "print(child.child_method())  \n",
    "\n",
    "class Animal:\n",
    "    def move(self):\n",
    "        return \"Animal moves\"\n",
    "\n",
    "class Dog(Animal):\n",
    "    def bark(self):\n",
    "        return \"Dog barks\"\n",
    "\n",
    "class Cat(Animal):\n",
    "    def meow(self):\n",
    "        return \"Cat meows\"\n",
    "\n",
    "dog = Dog()\n",
    "print(dog.move()) \n",
    "print(dog.bark())  \n",
    "cat = Cat()\n",
    "print(cat.move())  \n",
    "print(cat.meow())  \n",
    "\n"
   ]
  },
  {
   "cell_type": "code",
   "execution_count": 5,
   "id": "962facf1",
   "metadata": {},
   "outputs": [
    {
     "name": "stdout",
     "output_type": "stream",
     "text": [
      "Animal makes a sound\n",
      "Dog barks loudly\n",
      "Cat meows softly\n"
     ]
    }
   ],
   "source": [
    "# Method overriding : It is a feature in object-oriented programming where a subclass provides its own implementation of a method that is already defined in its superclass.\n",
    "\n",
    "# Parent class\n",
    "class Animal:\n",
    "    def speak(self):\n",
    "        return \"Animal makes a sound\"\n",
    "class Dog(Animal):\n",
    "    def speak(self):\n",
    "        return \"Dog barks loudly\"\n",
    "class Cat(Animal):\n",
    "    def speak(self):\n",
    "        return \"Cat meows softly\"\n",
    "\n",
    "animal = Animal()\n",
    "print(animal.speak()) \n",
    "\n",
    "dog = Dog()\n",
    "print(dog.speak())     \n",
    "\n",
    "cat = Cat()\n",
    "print(cat.speak())     \n"
   ]
  },
  {
   "cell_type": "code",
   "execution_count": 9,
   "id": "dd641141",
   "metadata": {},
   "outputs": [
    {
     "name": "stdout",
     "output_type": "stream",
     "text": [
      "Buddy is a Labrador I am a dog\n"
     ]
    }
   ],
   "source": [
    "# Parent class\n",
    "class Animal:\n",
    "    def __init__(self, species):\n",
    "        self.species = species\n",
    "\n",
    "    def display_info(self):\n",
    "        return f\"I am a {self.species}\"\n",
    "\n",
    "class Dog(Animal):\n",
    "    def __init__(self, name, breed):\n",
    "        super().__init__(\"dog\") \n",
    "        self.name = name\n",
    "        self.breed = breed\n",
    "\n",
    "    def display_info(self):\n",
    "        return f\"{self.name} is a {self.breed} {super().display_info()}\" \n",
    "\n",
    "dog = Dog(\"Buddy\", \"Labrador\")\n",
    "print(dog.display_info())"
   ]
  },
  {
   "cell_type": "code",
   "execution_count": null,
   "id": "9af63fb7",
   "metadata": {},
   "outputs": [],
   "source": []
  }
 ],
 "metadata": {
  "kernelspec": {
   "display_name": "Python 3 (ipykernel)",
   "language": "python",
   "name": "python3"
  },
  "language_info": {
   "codemirror_mode": {
    "name": "ipython",
    "version": 3
   },
   "file_extension": ".py",
   "mimetype": "text/x-python",
   "name": "python",
   "nbconvert_exporter": "python",
   "pygments_lexer": "ipython3",
   "version": "3.11.5"
  }
 },
 "nbformat": 4,
 "nbformat_minor": 5
}
