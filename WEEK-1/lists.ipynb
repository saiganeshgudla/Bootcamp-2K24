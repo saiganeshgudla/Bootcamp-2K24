{
 "cells": [
  {
   "cell_type": "code",
   "execution_count": null,
   "id": "8f549630",
   "metadata": {},
   "outputs": [],
   "source": [
    "# Creating a list of numbers\n",
    "numbers = [1, 2, 3, 4, 5]\n",
    "\n",
    "# Creating a list of strings\n",
    "fruits = [\"apple\", \"banana\", \"cherry\"]\n",
    "\n",
    "# Creating a list with mixed data types\n",
    "mixed_list = [9, \"hello\", True, 1.43]"
   ]
  },
  {
   "cell_type": "code",
   "execution_count": null,
   "id": "496d5671",
   "metadata": {},
   "outputs": [],
   "source": [
    "# Accessing elements\n",
    "numbers = [1, 2, 3, 4, 5]\n",
    "print(numbers[0]) \n",
    "print(numbers[2])  \n",
    "#using negative index\n",
    "print(numbers[-2])  \n",
    "print(numbers[-1])"
   ]
  },
  {
   "cell_type": "code",
   "execution_count": null,
   "id": "d370e401",
   "metadata": {},
   "outputs": [],
   "source": [
    "#List Slicing \n",
    "\n",
    "numbers = [1, 2, 3, 4, 5, 6, 7, 8, 9]\n",
    "\n",
    "print(numbers[2:4])    \n",
    "print(numbers[:5])    \n",
    "print(numbers[3:])     \n",
    "print(numbers[::2])"
   ]
  },
  {
   "cell_type": "code",
   "execution_count": null,
   "id": "8504bac7",
   "metadata": {},
   "outputs": [],
   "source": [
    "# Initializing lists\n",
    "fruits = [\"apple\", \"banana\", \"cherry\"]\n",
    "numbers = [5, 2, 8, 1, 3]\n",
    "\n",
    "# Adding elements to the fruits list\n",
    "fruits.append(\"orange\")   \n",
    "fruits.insert(1, \"grape\") \n",
    "\n",
    "# Removing elements from the fruits list\n",
    "fruits.remove(\"banana\") \n",
    "popped_item = fruits.pop() \n",
    "\n",
    "# Sorting the numbers list\n",
    "numbers.sort()  \n",
    "sorted_numbers = sorted(numbers) \n",
    "\n",
    "# List concatenation and repetition\n",
    "combined_list = fruits + numbers  \n",
    "repeated_list = fruits * 3\n",
    "\n",
    "print(\"Combined list:\", combined_list)\n",
    "print(\"Repeated list:\", repeated_list)\n",
    "print(\"Sorted numbers:\", sorted_numbers)\n",
    "print(\"Popped item from fruits:\", popped_item)\n"
   ]
  }
 ],
 "metadata": {
  "kernelspec": {
   "display_name": "Python 3 (ipykernel)",
   "language": "python",
   "name": "python3"
  },
  "language_info": {
   "codemirror_mode": {
    "name": "ipython",
    "version": 3
   },
   "file_extension": ".py",
   "mimetype": "text/x-python",
   "name": "python",
   "nbconvert_exporter": "python",
   "pygments_lexer": "ipython3",
   "version": "3.11.5"
  }
 },
 "nbformat": 4,
 "nbformat_minor": 5
}
